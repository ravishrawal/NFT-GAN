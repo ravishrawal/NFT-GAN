{
 "cells": [
  {
   "cell_type": "code",
   "execution_count": 1,
   "metadata": {
    "scrolled": true
   },
   "outputs": [],
   "source": [
    "# !pip install selenium"
   ]
  },
  {
   "cell_type": "code",
   "execution_count": 2,
   "metadata": {},
   "outputs": [],
   "source": [
    "# !pip install bs4"
   ]
  },
  {
   "cell_type": "code",
   "execution_count": 2,
   "metadata": {},
   "outputs": [],
   "source": [
    "from bs4 import BeautifulSoup"
   ]
  },
  {
   "cell_type": "code",
   "execution_count": 3,
   "metadata": {},
   "outputs": [],
   "source": [
    "import time\n",
    "from selenium import webdriver"
   ]
  },
  {
   "cell_type": "code",
   "execution_count": 4,
   "metadata": {},
   "outputs": [],
   "source": [
    "latest_scroll_height = 0"
   ]
  },
  {
   "cell_type": "code",
   "execution_count": 5,
   "metadata": {},
   "outputs": [],
   "source": [
    "## Importing Necessary Modules\n",
    "import requests # to get image from the web\n",
    "import shutil # to save it locally\n",
    "import os\n",
    "results_path = 'ape_images'\n",
    "\n",
    "def download_img(image_url, verbose=False):\n",
    "    ## Set up the image URL and filename\n",
    "    filename = image_url.split(\"/\")[-1]+'.jpg'\n",
    "\n",
    "    # Open the url image, set stream to True, this will return the stream content.\n",
    "    r = requests.get(image_url, stream = True)\n",
    "\n",
    "    # Check if the image was retrieved successfully\n",
    "    if r.status_code == 200:\n",
    "        # Set decode_content value to True, otherwise the downloaded image file's size will be zero.\n",
    "        r.raw.decode_content = True\n",
    "\n",
    "        # Open a local file with wb ( write binary ) permission.\n",
    "        fpath = os.path.join(results_path, filename)\n",
    "        with open(fpath,'wb') as f:\n",
    "            shutil.copyfileobj(r.raw, f)\n",
    "        if verbose:\n",
    "            print('Image sucessfully Downloaded: ',filename)\n",
    "    else:\n",
    "        print('Image Couldn\\'t be retreived')"
   ]
  },
  {
   "cell_type": "code",
   "execution_count": 7,
   "metadata": {
    "scrolled": false
   },
   "outputs": [
    {
     "name": "stderr",
     "output_type": "stream",
     "text": [
      "<ipython-input-7-ff80190dc9c6>:2: DeprecationWarning: executable_path has been deprecated, please pass in a Service object\n",
      "  driver = webdriver.Chrome(executable_path=r\"/Users/ravishrawal/Desktop/Columbia MS/Fall 2021/ML Performance/Project/NFT-GAN/web_crawler/chromedriver\")\n"
     ]
    },
    {
     "name": "stdout",
     "output_type": "stream",
     "text": [
      "2\n",
      "3\n",
      "4\n",
      "latest_scroll_height:  0\n"
     ]
    }
   ],
   "source": [
    "# Web scraper for infinite scrolling page \n",
    "driver = webdriver.Chrome(executable_path=r\"/Users/ravishrawal/Desktop/Columbia MS/Fall 2021/ML Performance/Project/NFT-GAN/web_crawler/chromedriver\")\n",
    "driver.get(\"https://opensea.io/collection/boredapeyachtclub\")\n",
    "time.sleep(2)  # Allow 2 seconds for the web page to open\n",
    "scroll_pause_time = 4 # You can set your own pause time. My laptop is a bit slow so I use 1 sec\n",
    "screen_height = driver.execute_script(\"return window.screen.height;\")   # get the screen height of the web\n",
    "i = 1\n",
    "results = []\n",
    "\n",
    "while True:\n",
    "    # scroll one screen height each time\n",
    "    driver.execute_script(\"window.scrollTo(0, {screen_height}*{i});\".format(screen_height=screen_height, i=i))  \n",
    "    i += 1\n",
    "    time.sleep(scroll_pause_time)\n",
    "    # update scroll height each time after scrolled, as the scroll height can change after we scrolled the page\n",
    "    try:\n",
    "        print(i)\n",
    "        scroll_height = driver.execute_script(\"return document.body.scrollHeight;\")\n",
    "        latest_scroll_height\n",
    "    except:\n",
    "        break\n",
    "    soup = BeautifulSoup(driver.page_source, \"html.parser\")\n",
    "    res = soup.find_all('img', class_='Image--image')\n",
    "    results.append(res)\n",
    "    for img in res:\n",
    "        download_img(img['src'])\n",
    "    # Break the loop when the height we need to scroll to is larger than the total scroll height\n",
    "#     if (screen_height) * i > scroll_height:\n",
    "#         break\n",
    "\n",
    "print('latest_scroll_height: ', latest_scroll_height)\n"
   ]
  }
 ],
 "metadata": {
  "kernelspec": {
   "display_name": "Python 3",
   "language": "python",
   "name": "python3"
  },
  "language_info": {
   "codemirror_mode": {
    "name": "ipython",
    "version": 3
   },
   "file_extension": ".py",
   "mimetype": "text/x-python",
   "name": "python",
   "nbconvert_exporter": "python",
   "pygments_lexer": "ipython3",
   "version": "3.8.3"
  }
 },
 "nbformat": 4,
 "nbformat_minor": 4
}
